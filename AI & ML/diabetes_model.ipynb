{
 "cells": [
  {
   "cell_type": "markdown",
   "id": "b3b87079",
   "metadata": {},
   "source": [
    "# Diabetes Prediction: Machine Learning Model\n",
    "\n",
    "This notebook demonstrates how to build a machine learning model to predict diabetes using the `diabetes.csv` dataset. Each step is thoroughly documented, including data loading, preprocessing, model training, evaluation, and an explanation of the chosen algorithm."
   ]
  },
  {
   "cell_type": "markdown",
   "id": "c3553e0e",
   "metadata": {},
   "source": [
    "## 1. Import Required Libraries\n",
    "\n",
    "We begin by importing essential libraries for data handling, visualization, and machine learning."
   ]
  },
  {
   "cell_type": "code",
   "execution_count": 27,
   "id": "d34521f1",
   "metadata": {},
   "outputs": [],
   "source": [
    "# Import essential libraries\n",
    "import pandas as pd\n",
    "import numpy as np\n",
    "import matplotlib.pyplot as plt\n",
    "import seaborn as sns\n",
    "from sklearn.model_selection import train_test_split\n",
    "from sklearn.linear_model import LogisticRegression\n",
    "from sklearn.metrics import accuracy_score, precision_score, recall_score, f1_score, confusion_matrix, classification_report"
   ]
  },
  {
   "cell_type": "markdown",
   "id": "3378d2ab",
   "metadata": {},
   "source": [
    "## 2. Load and Explore Dataset\n",
    "\n",
    "Let's load the `diabetes.csv` dataset and perform basic exploratory data analysis to understand its structure and contents."
   ]
  },
  {
   "cell_type": "code",
   "execution_count": 28,
   "id": "87f673fe",
   "metadata": {},
   "outputs": [
    {
     "data": {
      "text/html": [
       "<div>\n",
       "<style scoped>\n",
       "    .dataframe tbody tr th:only-of-type {\n",
       "        vertical-align: middle;\n",
       "    }\n",
       "\n",
       "    .dataframe tbody tr th {\n",
       "        vertical-align: top;\n",
       "    }\n",
       "\n",
       "    .dataframe thead th {\n",
       "        text-align: right;\n",
       "    }\n",
       "</style>\n",
       "<table border=\"1\" class=\"dataframe\">\n",
       "  <thead>\n",
       "    <tr style=\"text-align: right;\">\n",
       "      <th></th>\n",
       "      <th>Pregnancies</th>\n",
       "      <th>Glucose</th>\n",
       "      <th>BloodPressure</th>\n",
       "      <th>SkinThickness</th>\n",
       "      <th>Insulin</th>\n",
       "      <th>BMI</th>\n",
       "      <th>DiabetesPedigreeFunction</th>\n",
       "      <th>Age</th>\n",
       "      <th>Outcome</th>\n",
       "    </tr>\n",
       "  </thead>\n",
       "  <tbody>\n",
       "    <tr>\n",
       "      <th>0</th>\n",
       "      <td>6</td>\n",
       "      <td>148</td>\n",
       "      <td>72</td>\n",
       "      <td>35</td>\n",
       "      <td>0</td>\n",
       "      <td>33.6</td>\n",
       "      <td>0.627</td>\n",
       "      <td>50</td>\n",
       "      <td>1</td>\n",
       "    </tr>\n",
       "    <tr>\n",
       "      <th>1</th>\n",
       "      <td>1</td>\n",
       "      <td>85</td>\n",
       "      <td>66</td>\n",
       "      <td>29</td>\n",
       "      <td>0</td>\n",
       "      <td>26.6</td>\n",
       "      <td>0.351</td>\n",
       "      <td>31</td>\n",
       "      <td>0</td>\n",
       "    </tr>\n",
       "    <tr>\n",
       "      <th>2</th>\n",
       "      <td>8</td>\n",
       "      <td>183</td>\n",
       "      <td>64</td>\n",
       "      <td>0</td>\n",
       "      <td>0</td>\n",
       "      <td>23.3</td>\n",
       "      <td>0.672</td>\n",
       "      <td>32</td>\n",
       "      <td>1</td>\n",
       "    </tr>\n",
       "    <tr>\n",
       "      <th>3</th>\n",
       "      <td>1</td>\n",
       "      <td>89</td>\n",
       "      <td>66</td>\n",
       "      <td>23</td>\n",
       "      <td>94</td>\n",
       "      <td>28.1</td>\n",
       "      <td>0.167</td>\n",
       "      <td>21</td>\n",
       "      <td>0</td>\n",
       "    </tr>\n",
       "    <tr>\n",
       "      <th>4</th>\n",
       "      <td>0</td>\n",
       "      <td>137</td>\n",
       "      <td>40</td>\n",
       "      <td>35</td>\n",
       "      <td>168</td>\n",
       "      <td>43.1</td>\n",
       "      <td>2.288</td>\n",
       "      <td>33</td>\n",
       "      <td>1</td>\n",
       "    </tr>\n",
       "  </tbody>\n",
       "</table>\n",
       "</div>"
      ],
      "text/plain": [
       "   Pregnancies  Glucose  BloodPressure  SkinThickness  Insulin   BMI  \\\n",
       "0            6      148             72             35        0  33.6   \n",
       "1            1       85             66             29        0  26.6   \n",
       "2            8      183             64              0        0  23.3   \n",
       "3            1       89             66             23       94  28.1   \n",
       "4            0      137             40             35      168  43.1   \n",
       "\n",
       "   DiabetesPedigreeFunction  Age  Outcome  \n",
       "0                     0.627   50        1  \n",
       "1                     0.351   31        0  \n",
       "2                     0.672   32        1  \n",
       "3                     0.167   21        0  \n",
       "4                     2.288   33        1  "
      ]
     },
     "execution_count": 28,
     "metadata": {},
     "output_type": "execute_result"
    }
   ],
   "source": [
    "# Load the dataset\n",
    "df = pd.read_csv('diabetes.csv')\n",
    "\n",
    "# Display the first 5 rows\n",
    "df.head()"
   ]
  },
  {
   "cell_type": "code",
   "execution_count": 29,
   "id": "a5e27e5e",
   "metadata": {},
   "outputs": [
    {
     "name": "stdout",
     "output_type": "stream",
     "text": [
      "<class 'pandas.core.frame.DataFrame'>\n",
      "RangeIndex: 768 entries, 0 to 767\n",
      "Data columns (total 9 columns):\n",
      " #   Column                    Non-Null Count  Dtype  \n",
      "---  ------                    --------------  -----  \n",
      " 0   Pregnancies               768 non-null    int64  \n",
      " 1   Glucose                   768 non-null    int64  \n",
      " 2   BloodPressure             768 non-null    int64  \n",
      " 3   SkinThickness             768 non-null    int64  \n",
      " 4   Insulin                   768 non-null    int64  \n",
      " 5   BMI                       768 non-null    float64\n",
      " 6   DiabetesPedigreeFunction  768 non-null    float64\n",
      " 7   Age                       768 non-null    int64  \n",
      " 8   Outcome                   768 non-null    int64  \n",
      "dtypes: float64(2), int64(7)\n",
      "memory usage: 54.1 KB\n"
     ]
    },
    {
     "data": {
      "text/plain": [
       "Pregnancies                 0\n",
       "Glucose                     0\n",
       "BloodPressure               0\n",
       "SkinThickness               0\n",
       "Insulin                     0\n",
       "BMI                         0\n",
       "DiabetesPedigreeFunction    0\n",
       "Age                         0\n",
       "Outcome                     0\n",
       "dtype: int64"
      ]
     },
     "execution_count": 29,
     "metadata": {},
     "output_type": "execute_result"
    }
   ],
   "source": [
    "# Dataset information\n",
    "df.info()\n",
    "\n",
    "# Summary statistics\n",
    "df.describe()\n",
    "\n",
    "# Check for missing values\n",
    "df.isnull().sum()"
   ]
  },
  {
   "cell_type": "markdown",
   "id": "18695aa7",
   "metadata": {},
   "source": [
    "## 3. Preprocess Data\n",
    "\n",
    "We will clean the data, handle missing values, and scale features if necessary to prepare the dataset for modeling."
   ]
  },
  {
   "cell_type": "code",
   "execution_count": 30,
   "id": "f381ccfc",
   "metadata": {},
   "outputs": [],
   "source": [
    "# Replace zero values in certain columns with NaN (if appropriate)\n",
    "cols_with_zero = ['Glucose', 'BloodPressure', 'SkinThickness', 'Insulin', 'BMI']\n",
    "df[cols_with_zero] = df[cols_with_zero].replace(0, np.nan)\n",
    "\n",
    "# Fill missing values with column median\n",
    "df.fillna(df.median(), inplace=True)\n",
    "\n",
    "# Feature scaling (optional, for some models)\n",
    "from sklearn.preprocessing import StandardScaler\n",
    "scaler = StandardScaler()\n",
    "X = df.drop('Outcome', axis=1)\n",
    "y = df['Outcome']\n",
    "X_scaled = scaler.fit_transform(X)"
   ]
  },
  {
   "cell_type": "markdown",
   "id": "85ccc84d",
   "metadata": {},
   "source": [
    "## 4. Split Data into Training and Test Sets\n",
    "\n",
    "We will split the dataset into training and testing subsets to evaluate model performance on unseen data."
   ]
  },
  {
   "cell_type": "code",
   "execution_count": 31,
   "id": "e74ec3da",
   "metadata": {},
   "outputs": [
    {
     "name": "stdout",
     "output_type": "stream",
     "text": [
      "Training samples: 614\n",
      "Test samples: 154\n"
     ]
    }
   ],
   "source": [
    "# Split the data into training and test sets\n",
    "X_train, X_test, y_train, y_test = train_test_split(X_scaled, y, test_size=0.2, random_state=42)\n",
    "\n",
    "print(f'Training samples: {X_train.shape[0]}')\n",
    "print(f'Test samples: {X_test.shape[0]}')"
   ]
  },
  {
   "cell_type": "markdown",
   "id": "14ce1f25",
   "metadata": {},
   "source": [
    "## 5. Select and Train Machine Learning Model\n",
    "\n",
    "We will use Logistic Regression, a widely used algorithm for binary classification problems like diabetes prediction."
   ]
  },
  {
   "cell_type": "code",
   "execution_count": 32,
   "id": "30fd89dd",
   "metadata": {},
   "outputs": [],
   "source": [
    "# Instantiate and train the Logistic Regression model\n",
    "model = LogisticRegression(max_iter=1000, random_state=42)\n",
    "model.fit(X_train, y_train)\n",
    "\n",
    "# Predict on the test set\n",
    "y_pred = model.predict(X_test)"
   ]
  },
  {
   "cell_type": "markdown",
   "id": "c8054586",
   "metadata": {},
   "source": [
    "## 6. Evaluate Model Performance\n",
    "\n",
    "We will assess the model using accuracy, precision, recall, F1-score, and a confusion matrix."
   ]
  },
  {
   "cell_type": "code",
   "execution_count": 33,
   "id": "ec459123",
   "metadata": {},
   "outputs": [
    {
     "name": "stdout",
     "output_type": "stream",
     "text": [
      "Accuracy: 0.75\n",
      "Precision: 0.67\n",
      "Recall: 0.62\n",
      "F1-score: 0.64\n",
      "\n",
      "Classification Report:\n",
      "              precision    recall  f1-score   support\n",
      "\n",
      "           0       0.80      0.83      0.81        99\n",
      "           1       0.67      0.62      0.64        55\n",
      "\n",
      "    accuracy                           0.75       154\n",
      "   macro avg       0.73      0.72      0.73       154\n",
      "weighted avg       0.75      0.75      0.75       154\n",
      "\n"
     ]
    },
    {
     "data": {
      "image/png": "[encoded data removed]",
      "text/plain": [
       "<Figure size 500x400 with 2 Axes>"
      ]
     },
     "metadata": {},
     "output_type": "display_data"
    }
   ],
   "source": [
    "# Evaluate the model\n",
    "acc = accuracy_score(y_test, y_pred)\n",
    "prec = precision_score(y_test, y_pred)\n",
    "rec = recall_score(y_test, y_pred)\n",
    "f1 = f1_score(y_test, y_pred)\n",
    "cm = confusion_matrix(y_test, y_pred)\n",
    "\n",
    "print(f'Accuracy: {acc:.2f}')\n",
    "print(f'Precision: {prec:.2f}')\n",
    "print(f'Recall: {rec:.2f}')\n",
    "print(f'F1-score: {f1:.2f}')\n",
    "print('\\nClassification Report:')\n",
    "print(classification_report(y_test, y_pred))\n",
    "\n",
    "# Plot confusion matrix\n",
    "plt.figure(figsize=(5,4))\n",
    "sns.heatmap(cm, annot=True, fmt='d', cmap='Blues')\n",
    "plt.xlabel('Predicted')\n",
    "plt.ylabel('Actual')\n",
    "plt.title('Confusion Matrix')\n",
    "plt.show()"
   ]
  },
  {
   "cell_type": "markdown",
   "id": "8e9d1455",
   "metadata": {},
   "source": [
    "## 7. Document Model Training Algorithm\n",
    "\n",
    "### Logistic Regression\n",
    "\n",
    "**Working Principle:**\n",
    "Logistic Regression is a supervised learning algorithm used for binary classification tasks. It models the probability that a given input belongs to a particular class using the logistic (sigmoid) function. The output is a probability value between 0 and 1, which is then thresholded to assign a class label.\n",
    "\n",
    "**Key Hyperparameters:**\n",
    "- `C`: Inverse of regularization strength. Smaller values specify stronger regularization.\n",
    "- `max_iter`: Maximum number of iterations for the solver to converge.\n",
    "- `solver`: Algorithm to use in the optimization problem (e.g., 'lbfgs', 'liblinear').\n",
    "\n",
    "**Why Logistic Regression?**\n",
    "- It is simple, interpretable, and effective for binary classification problems like diabetes prediction.\n",
    "- Provides probability estimates for predictions.\n",
    "- Works well with scaled, clean datasets.\n",
    "\n",
    "For more complex relationships, other algorithms (e.g., Random Forest, SVM) can be explored, but Logistic Regression is a strong baseline."
   ]
  },
  {
   "cell_type": "markdown",
   "id": "14b4aba3",
   "metadata": {},
   "source": [
    "## 8. Try Different Algorithms and Compare Performance\n",
    "\n",
    "We will train and evaluate several algorithms: Decision Tree, Random Forest, Support Vector Machine (SVM), and K-Nearest Neighbors (KNN). Their performance will be compared to select the best model for this dataset."
   ]
  },
  {
   "cell_type": "code",
   "execution_count": 34,
   "id": "46db9fb4",
   "metadata": {},
   "outputs": [
    {
     "data": {
      "text/html": [
       "<div>\n",
       "<style scoped>\n",
       "    .dataframe tbody tr th:only-of-type {\n",
       "        vertical-align: middle;\n",
       "    }\n",
       "\n",
       "    .dataframe tbody tr th {\n",
       "        vertical-align: top;\n",
       "    }\n",
       "\n",
       "    .dataframe thead th {\n",
       "        text-align: right;\n",
       "    }\n",
       "</style>\n",
       "<table border=\"1\" class=\"dataframe\">\n",
       "  <thead>\n",
       "    <tr style=\"text-align: right;\">\n",
       "      <th></th>\n",
       "      <th>Model</th>\n",
       "      <th>Accuracy</th>\n",
       "      <th>Precision</th>\n",
       "      <th>Recall</th>\n",
       "      <th>F1-score</th>\n",
       "    </tr>\n",
       "  </thead>\n",
       "  <tbody>\n",
       "    <tr>\n",
       "      <th>0</th>\n",
       "      <td>KNN</td>\n",
       "      <td>0.733766</td>\n",
       "      <td>0.612903</td>\n",
       "      <td>0.690909</td>\n",
       "      <td>0.649573</td>\n",
       "    </tr>\n",
       "    <tr>\n",
       "      <th>1</th>\n",
       "      <td>Random Forest</td>\n",
       "      <td>0.740260</td>\n",
       "      <td>0.631579</td>\n",
       "      <td>0.654545</td>\n",
       "      <td>0.642857</td>\n",
       "    </tr>\n",
       "    <tr>\n",
       "      <th>2</th>\n",
       "      <td>Logistic Regression</td>\n",
       "      <td>0.753247</td>\n",
       "      <td>0.666667</td>\n",
       "      <td>0.618182</td>\n",
       "      <td>0.641509</td>\n",
       "    </tr>\n",
       "    <tr>\n",
       "      <th>3</th>\n",
       "      <td>SVM</td>\n",
       "      <td>0.746753</td>\n",
       "      <td>0.666667</td>\n",
       "      <td>0.581818</td>\n",
       "      <td>0.621359</td>\n",
       "    </tr>\n",
       "    <tr>\n",
       "      <th>4</th>\n",
       "      <td>Decision Tree</td>\n",
       "      <td>0.714286</td>\n",
       "      <td>0.596491</td>\n",
       "      <td>0.618182</td>\n",
       "      <td>0.607143</td>\n",
       "    </tr>\n",
       "  </tbody>\n",
       "</table>\n",
       "</div>"
      ],
      "text/plain": [
       "                 Model  Accuracy  Precision    Recall  F1-score\n",
       "0                  KNN  0.733766   0.612903  0.690909  0.649573\n",
       "1        Random Forest  0.740260   0.631579  0.654545  0.642857\n",
       "2  Logistic Regression  0.753247   0.666667  0.618182  0.641509\n",
       "3                  SVM  0.746753   0.666667  0.581818  0.621359\n",
       "4        Decision Tree  0.714286   0.596491  0.618182  0.607143"
      ]
     },
     "execution_count": 34,
     "metadata": {},
     "output_type": "execute_result"
    }
   ],
   "source": [
    "from sklearn.tree import DecisionTreeClassifier\n",
    "from sklearn.ensemble import RandomForestClassifier\n",
    "from sklearn.svm import SVC\n",
    "from sklearn.neighbors import KNeighborsClassifier\n",
    "\n",
    "models = {\n",
    "    'Logistic Regression': LogisticRegression(max_iter=1000, random_state=42),\n",
    "    'Decision Tree': DecisionTreeClassifier(random_state=42),\n",
    "    'Random Forest': RandomForestClassifier(random_state=42),\n",
    "    'SVM': SVC(random_state=42),\n",
    "    'KNN': KNeighborsClassifier()\n",
    "}\n",
    "\n",
    "results = []\n",
    "\n",
    "for name, clf in models.items():\n",
    "    clf.fit(X_train, y_train)\n",
    "    y_pred = clf.predict(X_test)\n",
    "    acc = accuracy_score(y_test, y_pred)\n",
    "    prec = precision_score(y_test, y_pred)\n",
    "    rec = recall_score(y_test, y_pred)\n",
    "    f1 = f1_score(y_test, y_pred)\n",
    "    results.append({'Model': name, 'Accuracy': acc, 'Precision': prec, 'Recall': rec, 'F1-score': f1})\n",
    "\n",
    "results_df = pd.DataFrame(results)\n",
    "results_df = results_df.sort_values(by='F1-score', ascending=False).reset_index(drop=True)\n",
    "results_df"
   ]
  },
  {
   "cell_type": "markdown",
   "id": "1760be45",
   "metadata": {},
   "source": [
    "## 9. Best Model Recommendation\n",
    "\n",
    "Based on the comparison above, the model with the highest F1-score is recommended as the best algorithm for this diabetes prediction task. Consider also the balance between precision and recall depending on the use case (e.g., minimizing false negatives may be critical in medical diagnosis).\n",
    "\n",
    "You can further tune the best model's hyperparameters for even better performance."
   ]
  },
  {
   "cell_type": "markdown",
   "id": "6d3a3a54",
   "metadata": {},
   "source": [
    "## 10. Train Final KNN Model and Save It\n",
    "\n",
    "We will retrain the K-Nearest Neighbors (KNN) model on the full training data and save the trained model to disk using joblib."
   ]
  },
  {
   "cell_type": "markdown",
   "id": "784e6574",
   "metadata": {},
   "source": [
    "## 11. KNN Hyperparameter Tuning\n",
    "\n",
    "We will use GridSearchCV to find the best hyperparameters for the KNN model (such as n_neighbors, weights, and p). This helps improve model performance by selecting the optimal configuration."
   ]
  },
  {
   "cell_type": "code",
   "execution_count": 35,
   "id": "e126ca49",
   "metadata": {},
   "outputs": [
    {
     "name": "stdout",
     "output_type": "stream",
     "text": [
      "Best parameters: {'n_neighbors': 8, 'p': 1, 'weights': 'distance'}\n",
      "Best cross-validated F1-score: 0.6440181423514757\n",
      "Best KNN model saved as knn_best_diabetes_model.joblib\n"
     ]
    }
   ],
   "source": [
    "from sklearn.model_selection import GridSearchCV\n",
    "import joblib\n",
    "# Define parameter grid for KNN\n",
    "grid_params = {\n",
    "    'n_neighbors': list(range(3, 16)),\n",
    "    'weights': ['uniform', 'distance'],\n",
    "    'p': [1, 2]  # 1: Manhattan, 2: Euclidean\n",
    "}\n",
    "\n",
    "knn = KNeighborsClassifier()\n",
    "grid = GridSearchCV(knn, grid_params, cv=5, scoring='f1', n_jobs=-1)\n",
    "grid.fit(X_train, y_train)\n",
    "\n",
    "print('Best parameters:', grid.best_params_)\n",
    "print('Best cross-validated F1-score:', grid.best_score_)\n",
    "\n",
    "# Retrain KNN with best parameters on the full training data\n",
    "knn_best = grid.best_estimator_\n",
    "knn_best.fit(X_train, y_train)\n",
    "\n",
    "# Save the best KNN model\n",
    "joblib.dump(knn_best, 'knn_best_diabetes_model.joblib')\n",
    "print('Best KNN model saved as knn_best_diabetes_model.joblib')"
   ]
  }
 ],
 "metadata": {
  "kernelspec": {
   "display_name": "Python 3",
   "language": "python",
   "name": "python3"
  },
  "language_info": {
   "codemirror_mode": {
    "name": "ipython",
    "version": 3
   },
   "file_extension": ".py",
   "mimetype": "text/x-python",
   "name": "python",
   "nbconvert_exporter": "python",
   "pygments_lexer": "ipython3",
   "version": "3.13.3"
  }
 },
 "nbformat": 4,
 "nbformat_minor": 5
}
